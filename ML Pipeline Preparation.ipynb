{
 "cells": [
  {
   "cell_type": "markdown",
   "metadata": {},
   "source": [
    "# ML Pipeline Preparation\n",
    "Follow the instructions below to help you create your ML pipeline.\n",
    "### 1. Import libraries and load data from database.\n",
    "- Import Python libraries\n",
    "- Load dataset from database with [`read_sql_table`](https://pandas.pydata.org/pandas-docs/stable/generated/pandas.read_sql_table.html)\n",
    "- Define feature and target variables X and Y"
   ]
  },
  {
   "cell_type": "code",
   "execution_count": 1,
   "metadata": {},
   "outputs": [],
   "source": [
    "# import libraries\n",
    "from sqlalchemy import create_engine\n",
    "import pandas as pd\n",
    "import re\n",
    "from datetime import datetime\n",
    "from nltk.corpus import stopwords\n",
    "from nltk import WordNetLemmatizer, RegexpTokenizer\n",
    "from sklearn.feature_extraction.text import CountVectorizer, TfidfTransformer\n",
    "from sklearn.pipeline import Pipeline, FeatureUnion\n",
    "from sklearn.model_selection import train_test_split\n",
    "from sklearn.ensemble import RandomForestClassifier, AdaBoostClassifier, \\\n",
    "    GradientBoostingClassifier\n",
    "from sklearn.tree import DecisionTreeClassifier, ExtraTreeClassifier\n",
    "from sklearn.metrics import accuracy_score, recall_score\n",
    "from sklearn.multioutput import MultiOutputClassifier\n",
    "from sklearn.model_selection import GridSearchCV\n",
    "from sklearn.base import BaseEstimator, TransformerMixin"
   ]
  },
  {
   "cell_type": "code",
   "execution_count": 2,
   "metadata": {},
   "outputs": [],
   "source": [
    "# load data from database\n",
    "def load_data(db_name: str):\n",
    "    \"\"\"\n",
    "    Function used to load data from sqlite database\n",
    "    :param db_name: database file name\n",
    "    :return: X and Y\n",
    "    \"\"\"\n",
    "    engine = create_engine(f'sqlite:///{db_name}.db')\n",
    "    table_name = engine.table_names()[0]\n",
    "    df = pd.read_sql(f'select * from {table_name}', engine, index_col='id')\n",
    "    not_in_Y = ['original', 'genre', 'message']\n",
    "    X = df['message'].values\n",
    "    Y = df[[col for col in df.columns if col not in not_in_Y]].values\n",
    "\n",
    "\n",
    "    return X, Y\n",
    "\n",
    "\n",
    "X, Y = load_data('DisasterResponse')"
   ]
  },
  {
   "cell_type": "markdown",
   "metadata": {},
   "source": [
    "### 2. Write a tokenization function to process your text data"
   ]
  },
  {
   "cell_type": "code",
   "execution_count": 37,
   "metadata": {},
   "outputs": [],
   "source": [
    "def clean_text(text: str):\n",
    "    \"\"\"\n",
    "    Function used to clean text data:\n",
    "    - text normalization\n",
    "    - text tokenization\n",
    "    - text lemmatization or stemming\n",
    "    :param text: text to clean\n",
    "    :param reduce_word: lammatizer or stemming object\n",
    "    :return: clean text\n",
    "    \"\"\"\n",
    "    # text normalization and tokenization\n",
    "    tokenizer = RegexpTokenizer(r'[\\w]')\n",
    "    tokens = tokenizer.tokenize(text)\n",
    "\n",
    "    # removing stopwords\n",
    "    stop_words = stopwords.words('english')\n",
    "    tokens = [word.strip() for word in tokens if word not in stop_words]\n",
    "\n",
    "    # lemmatization or stemming\n",
    "    lemmatizer = WordNetLemmatizer()\n",
    "    text = [lemmatizer.lemmatize(word) for word in tokens]\n",
    "\n",
    "    return text"
   ]
  },
  {
   "cell_type": "markdown",
   "metadata": {},
   "source": [
    "### 3. Train pipeline\n",
    "- Split data into train and test sets\n",
    "- Train pipeline"
   ]
  },
  {
   "cell_type": "code",
   "execution_count": 4,
   "metadata": {},
   "outputs": [],
   "source": [
    "X_train, X_test, y_train, y_test = train_test_split(X, Y, test_size=0.3,\n",
    "                                                    random_state=0)"
   ]
  },
  {
   "cell_type": "markdown",
   "source": [
    "### 4. Build a machine learning pipeline\n",
    "This machine pipeline should take in the `message` column as input and output classification results on the other 36 categories in the dataset. You may find the [MultiOutputClassifier](http://scikit-learn.org/stable/modules/generated/sklearn.multioutput.MultiOutputClassifier.html) helpful for predicting multiple target variables."
   ],
   "metadata": {
    "collapsed": false
   }
  },
  {
   "cell_type": "code",
   "execution_count": 39,
   "outputs": [],
   "source": [
    "pipeline_rf = Pipeline([\n",
    "    ('count_vectorizer', CountVectorizer(tokenizer=clean_text)),\n",
    "    ('tfids', TfidfTransformer()),\n",
    "    ('cls',\n",
    "     MultiOutputClassifier(estimator=RandomForestClassifier()))\n",
    "])"
   ],
   "metadata": {
    "collapsed": false,
    "pycharm": {
     "name": "#%%\n"
    }
   }
  },
  {
   "cell_type": "markdown",
   "metadata": {},
   "source": [
    "### 5. Test your model\n",
    "Report the f1 score, precision and recall for each output category of the dataset. You can do this by iterating through the columns and calling sklearn's `classification_report` on each."
   ]
  },
  {
   "cell_type": "code",
   "execution_count": 40,
   "metadata": {},
   "outputs": [
    {
     "name": "stdout",
     "output_type": "stream",
     "text": [
      "It took 5 minutes and 50 seconds\n"
     ]
    }
   ],
   "source": [
    "start = datetime.now()\n",
    "\n",
    "pipeline_rf.fit(X_train, y_train)\n",
    "y_predict = pipeline_rf.predict(X_test)\n",
    "\n",
    "end = datetime.now()\n",
    "delta = (end - start).seconds\n",
    "print(f'It took {delta // 60} minutes and {delta % 60} seconds')"
   ]
  },
  {
   "cell_type": "code",
   "execution_count": 41,
   "outputs": [
    {
     "name": "stdout",
     "output_type": "stream",
     "text": [
      "The accuracy of the model is: 93.07%\n"
     ]
    }
   ],
   "source": [
    "accuracy = []\n",
    "\n",
    "for c_r, c_p in zip(y_test.T, y_predict.T):\n",
    "    accuracy.append(accuracy_score(c_r, c_p))\n",
    "\n",
    "mean_accuracy = sum(accuracy) / len(accuracy)\n",
    "\n",
    "print(f'The accuracy of the model is: {mean_accuracy:.2%}')"
   ],
   "metadata": {
    "collapsed": false,
    "pycharm": {
     "name": "#%%\n"
    }
   }
  },
  {
   "cell_type": "markdown",
   "metadata": {},
   "source": [
    "### 6. Improve your model\n",
    "Use grid search to find better parameters. "
   ]
  },
  {
   "cell_type": "code",
   "execution_count": null,
   "metadata": {},
   "outputs": [],
   "source": [
    "parameters = {\n",
    "    'tfids__norm': ['l1', 'l2'],\n",
    "    'cls__estimator__n_estimators': [10, 50, 100, 500],\n",
    "    'cls__estimator__max_depth': [None, 1, 2, 3, 4, 5],\n",
    "    'cls__estimator__min_samples_leaf': [1, 5, 10]\n",
    "\n",
    "}\n",
    "\n",
    "cv = GridSearchCV(pipeline_rf, param_grid=parameters)"
   ]
  },
  {
   "cell_type": "code",
   "execution_count": null,
   "outputs": [],
   "source": [
    "start = datetime.now()\n",
    "\n",
    "cv.fit(X_train, y_train)\n",
    "\n",
    "end = datetime.now()\n",
    "delta = (end - start).seconds\n",
    "print(f'It took {delta // 60} minutes and {delta % 60} seconds')"
   ],
   "metadata": {
    "collapsed": false,
    "pycharm": {
     "name": "#%%\n"
    }
   }
  },
  {
   "cell_type": "markdown",
   "metadata": {},
   "source": [
    "### 7. Test your model\n",
    "Show the accuracy, precision, and recall of the tuned model.  \n",
    "\n",
    "Since this project focuses on code quality, process, and  pipelines, there is no minimum performance metric needed to pass. However, make sure to fine tune your models for accuracy, precision and recall to make your project stand out - especially for your portfolio!"
   ]
  },
  {
   "cell_type": "code",
   "execution_count": null,
   "metadata": {},
   "outputs": [],
   "source": []
  },
  {
   "cell_type": "markdown",
   "metadata": {},
   "source": [
    "### 8. Try improving your model further. Here are a few ideas:\n",
    "* try other machine learning algorithms\n",
    "* add other features besides the TF-IDF"
   ]
  },
  {
   "cell_type": "code",
   "execution_count": null,
   "metadata": {},
   "outputs": [],
   "source": []
  },
  {
   "cell_type": "markdown",
   "metadata": {},
   "source": [
    "### 9. Export your model as a pickle file"
   ]
  },
  {
   "cell_type": "code",
   "execution_count": null,
   "metadata": {},
   "outputs": [],
   "source": []
  },
  {
   "cell_type": "markdown",
   "metadata": {},
   "source": [
    "### 10. Use this notebook to complete `train.py`\n",
    "Use the template file attached in the Resources folder to write a script that runs the steps above to create a database and export a model based on a new dataset specified by the user."
   ]
  },
  {
   "cell_type": "code",
   "execution_count": null,
   "metadata": {},
   "outputs": [],
   "source": [
    "temp_pipeline = Pipeline([\n",
    "    ('count_vectorizer',\n",
    "     CountVectorizer(tokenizer=CleanDate(reduce_word=PorterStemmer))),\n",
    "    ('tfids', TfidfTransformer()),\n",
    "    ('cls',\n",
    "     MultiOutputClassifier(estimator=RandomForestClassifier()))\n",
    "])\n",
    "\n",
    "for i in pipeline_rf.get_params().keys():\n",
    "    print(i)"
   ]
  },
  {
   "cell_type": "code",
   "execution_count": null,
   "outputs": [],
   "source": [],
   "metadata": {
    "collapsed": false,
    "pycharm": {
     "name": "#%%\n"
    }
   }
  }
 ],
 "metadata": {
  "kernelspec": {
   "name": "pycharm-6fc27e4",
   "language": "python",
   "display_name": "PyCharm (disaster_response)"
  },
  "language_info": {
   "codemirror_mode": {
    "name": "ipython",
    "version": 3
   },
   "file_extension": ".py",
   "mimetype": "text/x-python",
   "name": "python",
   "nbconvert_exporter": "python",
   "pygments_lexer": "ipython3",
   "version": "3.6.3"
  }
 },
 "nbformat": 4,
 "nbformat_minor": 2
}